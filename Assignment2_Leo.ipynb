{
  "nbformat": 4,
  "nbformat_minor": 0,
  "metadata": {
    "colab": {
      "name": "Assignment2_Leo.ipynb",
      "version": "0.3.2",
      "provenance": [],
      "collapsed_sections": []
    },
    "kernelspec": {
      "name": "python3",
      "display_name": "Python 3"
    },
    "accelerator": "TPU"
  },
  "cells": [
    {
      "metadata": {
        "id": "iiPg2miocdCJ",
        "colab_type": "text"
      },
      "cell_type": "markdown",
      "source": [
        "Assignment 2 - Deep Learning\n",
        "\n",
        "By: Leo Tsang"
      ]
    },
    {
      "metadata": {
        "id": "_lI9eP_ccZhF",
        "colab_type": "code",
        "outputId": "ca56e38e-ce5c-44cb-c311-923ce745baf7",
        "colab": {
          "base_uri": "https://localhost:8080/",
          "height": 122
        }
      },
      "cell_type": "code",
      "source": [
        "#connect to our Google Drive\n",
        "from google.colab import drive\n",
        "drive.mount('/content/drive')"
      ],
      "execution_count": 2,
      "outputs": [
        {
          "output_type": "stream",
          "text": [
            "Go to this URL in a browser: https://accounts.google.com/o/oauth2/auth?client_id=947318989803-6bn6qk8qdgf4n4g3pfee6491hc0brc4i.apps.googleusercontent.com&redirect_uri=urn%3Aietf%3Awg%3Aoauth%3A2.0%3Aoob&scope=email%20https%3A%2F%2Fwww.googleapis.com%2Fauth%2Fdocs.test%20https%3A%2F%2Fwww.googleapis.com%2Fauth%2Fdrive%20https%3A%2F%2Fwww.googleapis.com%2Fauth%2Fdrive.photos.readonly%20https%3A%2F%2Fwww.googleapis.com%2Fauth%2Fpeopleapi.readonly&response_type=code\n",
            "\n",
            "Enter your authorization code:\n",
            "··········\n",
            "Mounted at /content/drive\n"
          ],
          "name": "stdout"
        }
      ]
    },
    {
      "metadata": {
        "id": "pIpIlLNjdnzv",
        "colab_type": "code",
        "colab": {}
      },
      "cell_type": "code",
      "source": [
        "#import all the packages required to read image\n",
        "import numpy as np\n",
        "np.random.seed(1234)\n",
        "import skimage\n",
        "from skimage import io\n",
        "from skimage.color import rgb2gray, rgb2grey\n",
        "from skimage.transform import resize\n",
        "from skimage.io import imread_collection, concatenate_images, imshow\n",
        "from skimage.util import invert\n",
        "\n",
        "import matplotlib.pyplot as plt"
      ],
      "execution_count": 0,
      "outputs": []
    },
    {
      "metadata": {
        "id": "6qGDo4-AcxU5",
        "colab_type": "code",
        "colab": {}
      },
      "cell_type": "code",
      "source": [
        "#listing the directory \n",
        "train_dir = '/content/drive/My Drive/DS8009 Deep Learning/Assignment 2/training/'\n",
        "valid_dir = '/content/drive/My Drive/DS8009 Deep Learning/Assignment 2/evaluation/'\n",
        "test_dir = '/content/drive/My Drive/DS8009 Deep Learning/Assignment 2/validation/'\n"
      ],
      "execution_count": 0,
      "outputs": []
    },
    {
      "metadata": {
        "id": "rTn6zYDYvlcd",
        "colab_type": "text"
      },
      "cell_type": "markdown",
      "source": [
        "PRETRAIN Neural Network"
      ]
    },
    {
      "metadata": {
        "id": "PMM_t3sVu5mW",
        "colab_type": "code",
        "outputId": "1bfaf23e-e1a6-4798-fcd0-620b62c62588",
        "colab": {
          "base_uri": "https://localhost:8080/",
          "height": 139
        }
      },
      "cell_type": "code",
      "source": [
        "#let's try pretrain\n",
        "from keras.applications import VGG16\n",
        "\n",
        "conv_base = VGG16(weights='imagenet',\n",
        "                  include_top=False,\n",
        "                  input_shape=(150, 150, 3))"
      ],
      "execution_count": 5,
      "outputs": [
        {
          "output_type": "stream",
          "text": [
            "Using TensorFlow backend.\n"
          ],
          "name": "stderr"
        },
        {
          "output_type": "stream",
          "text": [
            "WARNING:tensorflow:From /usr/local/lib/python3.6/dist-packages/tensorflow/python/framework/op_def_library.py:263: colocate_with (from tensorflow.python.framework.ops) is deprecated and will be removed in a future version.\n",
            "Instructions for updating:\n",
            "Colocations handled automatically by placer.\n",
            "Downloading data from https://github.com/fchollet/deep-learning-models/releases/download/v0.1/vgg16_weights_tf_dim_ordering_tf_kernels_notop.h5\n",
            "58892288/58889256 [==============================] - 2s 0us/step\n"
          ],
          "name": "stdout"
        }
      ]
    },
    {
      "metadata": {
        "id": "hSwjoTy9vk7u",
        "colab_type": "code",
        "outputId": "75826ed1-a841-4f22-a4a1-b1142d934b5d",
        "colab": {
          "base_uri": "https://localhost:8080/",
          "height": 68
        }
      },
      "cell_type": "code",
      "source": [
        "#Pre-processing & Setting images to batches\n",
        "\n",
        "import numpy as np\n",
        "from keras.preprocessing.image import ImageDataGenerator\n",
        "\n",
        "datagen = ImageDataGenerator(rescale=1./255)\n",
        "batch_size = 20\n",
        "\n",
        "def extract_features(directory, sample_count):\n",
        "    features = np.zeros(shape=(sample_count, 4, 4, 512))\n",
        "    labels = np.zeros(shape=(sample_count))\n",
        "    generator = datagen.flow_from_directory(\n",
        "        directory,\n",
        "        target_size=(150, 150),\n",
        "        batch_size=batch_size,\n",
        "        class_mode='binary')\n",
        "    i = 0\n",
        "    for inputs_batch, labels_batch in generator:\n",
        "        features_batch = conv_base.predict(inputs_batch)\n",
        "        features[i * batch_size : (i + 1) * batch_size] = features_batch\n",
        "        labels[i * batch_size : (i + 1) * batch_size] = labels_batch\n",
        "        i += 1\n",
        "        if i * batch_size >= sample_count:\n",
        "            break\n",
        "    return features, labels\n",
        "\n",
        "train_features, train_labels = extract_features(train_dir, 3000)\n",
        "validation_features, validation_labels = extract_features(valid_dir, 1000)\n",
        "test_features, test_labels = extract_features(test_dir, 1000)"
      ],
      "execution_count": 6,
      "outputs": [
        {
          "output_type": "stream",
          "text": [
            "Found 3000 images belonging to 2 classes.\n",
            "Found 1000 images belonging to 2 classes.\n",
            "Found 1000 images belonging to 2 classes.\n"
          ],
          "name": "stdout"
        }
      ]
    },
    {
      "metadata": {
        "id": "Mi2E5sRv2bMC",
        "colab_type": "code",
        "colab": {}
      },
      "cell_type": "code",
      "source": [
        "#setting the image to fit our model\n",
        "\n",
        "train_features = np.reshape(train_features, (3000, 4 * 4 * 512))\n",
        "validation_features = np.reshape(validation_features, (1000, 4 * 4 * 512))\n",
        "test_features = np.reshape(test_features, (1000, 4 * 4 * 512))"
      ],
      "execution_count": 0,
      "outputs": []
    },
    {
      "metadata": {
        "id": "I9ssbyK32jmI",
        "colab_type": "code",
        "outputId": "acd5e8e4-f627-4dc9-d499-3f61d3b43659",
        "colab": {
          "base_uri": "https://localhost:8080/",
          "height": 1176
        }
      },
      "cell_type": "code",
      "source": [
        "from keras import models\n",
        "from keras import layers\n",
        "from keras import optimizers\n",
        "\n",
        "model2 = models.Sequential()\n",
        "model2.add(layers.Dense(256, activation='relu', input_dim=4 * 4 * 512))\n",
        "model2.add(layers.Dropout(0.5))\n",
        "model2.add(layers.Dense(1, activation='sigmoid'))\n",
        "\n",
        "model2.compile(optimizer=optimizers.RMSprop(lr=2e-5),\n",
        "              loss='binary_crossentropy',\n",
        "              metrics=['acc'])\n",
        "\n",
        "history2 = model2.fit(train_features, train_labels,\n",
        "                    epochs=30,\n",
        "                    batch_size=20,\n",
        "                    validation_data=(validation_features, validation_labels))"
      ],
      "execution_count": 8,
      "outputs": [
        {
          "output_type": "stream",
          "text": [
            "WARNING:tensorflow:From /usr/local/lib/python3.6/dist-packages/keras/backend/tensorflow_backend.py:3445: calling dropout (from tensorflow.python.ops.nn_ops) with keep_prob is deprecated and will be removed in a future version.\n",
            "Instructions for updating:\n",
            "Please use `rate` instead of `keep_prob`. Rate should be set to `rate = 1 - keep_prob`.\n",
            "WARNING:tensorflow:From /usr/local/lib/python3.6/dist-packages/tensorflow/python/ops/math_ops.py:3066: to_int32 (from tensorflow.python.ops.math_ops) is deprecated and will be removed in a future version.\n",
            "Instructions for updating:\n",
            "Use tf.cast instead.\n",
            "Train on 3000 samples, validate on 1000 samples\n",
            "Epoch 1/30\n",
            "3000/3000 [==============================] - 8s 3ms/step - loss: 0.4729 - acc: 0.7707 - val_loss: 0.2732 - val_acc: 0.9030\n",
            "Epoch 2/30\n",
            "3000/3000 [==============================] - 8s 3ms/step - loss: 0.2600 - acc: 0.9040 - val_loss: 0.2211 - val_acc: 0.9170\n",
            "Epoch 3/30\n",
            "3000/3000 [==============================] - 8s 3ms/step - loss: 0.2119 - acc: 0.9183 - val_loss: 0.1994 - val_acc: 0.9260\n",
            "Epoch 4/30\n",
            "3000/3000 [==============================] - 8s 3ms/step - loss: 0.1916 - acc: 0.9250 - val_loss: 0.1864 - val_acc: 0.9310\n",
            "Epoch 5/30\n",
            "3000/3000 [==============================] - 8s 3ms/step - loss: 0.1670 - acc: 0.9360 - val_loss: 0.1787 - val_acc: 0.9340\n",
            "Epoch 6/30\n",
            "3000/3000 [==============================] - 8s 3ms/step - loss: 0.1569 - acc: 0.9393 - val_loss: 0.1737 - val_acc: 0.9400\n",
            "Epoch 7/30\n",
            "3000/3000 [==============================] - 8s 3ms/step - loss: 0.1467 - acc: 0.9467 - val_loss: 0.1704 - val_acc: 0.9350\n",
            "Epoch 8/30\n",
            "3000/3000 [==============================] - 8s 3ms/step - loss: 0.1272 - acc: 0.9553 - val_loss: 0.1645 - val_acc: 0.9430\n",
            "Epoch 9/30\n",
            "3000/3000 [==============================] - 8s 3ms/step - loss: 0.1278 - acc: 0.9523 - val_loss: 0.1621 - val_acc: 0.9430\n",
            "Epoch 10/30\n",
            "3000/3000 [==============================] - 8s 3ms/step - loss: 0.1165 - acc: 0.9587 - val_loss: 0.1631 - val_acc: 0.9450\n",
            "Epoch 11/30\n",
            "3000/3000 [==============================] - 8s 3ms/step - loss: 0.1122 - acc: 0.9590 - val_loss: 0.1589 - val_acc: 0.9420\n",
            "Epoch 12/30\n",
            "3000/3000 [==============================] - 8s 3ms/step - loss: 0.1003 - acc: 0.9640 - val_loss: 0.1606 - val_acc: 0.9450\n",
            "Epoch 13/30\n",
            "3000/3000 [==============================] - 8s 3ms/step - loss: 0.1024 - acc: 0.9650 - val_loss: 0.1564 - val_acc: 0.9430\n",
            "Epoch 14/30\n",
            "3000/3000 [==============================] - 8s 3ms/step - loss: 0.0947 - acc: 0.9663 - val_loss: 0.1564 - val_acc: 0.9430\n",
            "Epoch 15/30\n",
            "3000/3000 [==============================] - 8s 3ms/step - loss: 0.0883 - acc: 0.9717 - val_loss: 0.1546 - val_acc: 0.9430\n",
            "Epoch 16/30\n",
            "3000/3000 [==============================] - 8s 3ms/step - loss: 0.0841 - acc: 0.9733 - val_loss: 0.1552 - val_acc: 0.9430\n",
            "Epoch 17/30\n",
            "3000/3000 [==============================] - 8s 3ms/step - loss: 0.0787 - acc: 0.9750 - val_loss: 0.1544 - val_acc: 0.9460\n",
            "Epoch 18/30\n",
            "3000/3000 [==============================] - 8s 3ms/step - loss: 0.0754 - acc: 0.9760 - val_loss: 0.1536 - val_acc: 0.9460\n",
            "Epoch 19/30\n",
            "3000/3000 [==============================] - 8s 3ms/step - loss: 0.0702 - acc: 0.9773 - val_loss: 0.1536 - val_acc: 0.9460\n",
            "Epoch 20/30\n",
            "3000/3000 [==============================] - 8s 3ms/step - loss: 0.0676 - acc: 0.9790 - val_loss: 0.1536 - val_acc: 0.9470\n",
            "Epoch 21/30\n",
            "3000/3000 [==============================] - 8s 3ms/step - loss: 0.0649 - acc: 0.9797 - val_loss: 0.1557 - val_acc: 0.9440\n",
            "Epoch 22/30\n",
            "3000/3000 [==============================] - 8s 3ms/step - loss: 0.0648 - acc: 0.9787 - val_loss: 0.1563 - val_acc: 0.9440\n",
            "Epoch 23/30\n",
            "3000/3000 [==============================] - 8s 3ms/step - loss: 0.0568 - acc: 0.9830 - val_loss: 0.1562 - val_acc: 0.9450\n",
            "Epoch 24/30\n",
            "3000/3000 [==============================] - 8s 3ms/step - loss: 0.0533 - acc: 0.9853 - val_loss: 0.1603 - val_acc: 0.9430\n",
            "Epoch 25/30\n",
            "3000/3000 [==============================] - 7s 2ms/step - loss: 0.0518 - acc: 0.9860 - val_loss: 0.1570 - val_acc: 0.9440\n",
            "Epoch 26/30\n",
            "3000/3000 [==============================] - 8s 3ms/step - loss: 0.0492 - acc: 0.9870 - val_loss: 0.1552 - val_acc: 0.9470\n",
            "Epoch 27/30\n",
            "3000/3000 [==============================] - 8s 3ms/step - loss: 0.0452 - acc: 0.9893 - val_loss: 0.1556 - val_acc: 0.9450\n",
            "Epoch 28/30\n",
            "3000/3000 [==============================] - 8s 3ms/step - loss: 0.0436 - acc: 0.9880 - val_loss: 0.1586 - val_acc: 0.9440\n",
            "Epoch 29/30\n",
            "3000/3000 [==============================] - 8s 3ms/step - loss: 0.0401 - acc: 0.9910 - val_loss: 0.1573 - val_acc: 0.9460\n",
            "Epoch 30/30\n",
            "3000/3000 [==============================] - 8s 3ms/step - loss: 0.0398 - acc: 0.9903 - val_loss: 0.1588 - val_acc: 0.9450\n"
          ],
          "name": "stdout"
        }
      ]
    },
    {
      "metadata": {
        "id": "8KeFmcm0eZCI",
        "colab_type": "code",
        "outputId": "797b262f-4006-4265-9234-f0dcc6a04dec",
        "colab": {
          "base_uri": "https://localhost:8080/",
          "height": 1054
        }
      },
      "cell_type": "code",
      "source": [
        "test = model2.fit(train_features, train_labels,\n",
        "                    epochs=30,\n",
        "                    batch_size=20,\n",
        "                    validation_data=(test_features, test_labels))"
      ],
      "execution_count": 9,
      "outputs": [
        {
          "output_type": "stream",
          "text": [
            "Train on 3000 samples, validate on 1000 samples\n",
            "Epoch 1/30\n",
            "3000/3000 [==============================] - 8s 3ms/step - loss: 0.0381 - acc: 0.9900 - val_loss: 0.1308 - val_acc: 0.9420\n",
            "Epoch 2/30\n",
            "3000/3000 [==============================] - 8s 3ms/step - loss: 0.0371 - acc: 0.9903 - val_loss: 0.1321 - val_acc: 0.9440\n",
            "Epoch 3/30\n",
            "3000/3000 [==============================] - 8s 3ms/step - loss: 0.0355 - acc: 0.9913 - val_loss: 0.1401 - val_acc: 0.9470\n",
            "Epoch 4/30\n",
            "3000/3000 [==============================] - 8s 3ms/step - loss: 0.0339 - acc: 0.9923 - val_loss: 0.1323 - val_acc: 0.9430\n",
            "Epoch 5/30\n",
            "3000/3000 [==============================] - 8s 3ms/step - loss: 0.0311 - acc: 0.9923 - val_loss: 0.1441 - val_acc: 0.9490\n",
            "Epoch 6/30\n",
            "3000/3000 [==============================] - 8s 3ms/step - loss: 0.0288 - acc: 0.9950 - val_loss: 0.1332 - val_acc: 0.9410\n",
            "Epoch 7/30\n",
            "3000/3000 [==============================] - 8s 3ms/step - loss: 0.0278 - acc: 0.9940 - val_loss: 0.1394 - val_acc: 0.9450\n",
            "Epoch 8/30\n",
            "3000/3000 [==============================] - 8s 3ms/step - loss: 0.0267 - acc: 0.9933 - val_loss: 0.1381 - val_acc: 0.9440\n",
            "Epoch 9/30\n",
            "3000/3000 [==============================] - 8s 3ms/step - loss: 0.0258 - acc: 0.9933 - val_loss: 0.1383 - val_acc: 0.9430\n",
            "Epoch 10/30\n",
            "3000/3000 [==============================] - 7s 2ms/step - loss: 0.0242 - acc: 0.9947 - val_loss: 0.1417 - val_acc: 0.9430\n",
            "Epoch 11/30\n",
            "3000/3000 [==============================] - 8s 3ms/step - loss: 0.0244 - acc: 0.9963 - val_loss: 0.1394 - val_acc: 0.9430\n",
            "Epoch 12/30\n",
            "3000/3000 [==============================] - 8s 3ms/step - loss: 0.0207 - acc: 0.9953 - val_loss: 0.1404 - val_acc: 0.9440\n",
            "Epoch 13/30\n",
            "3000/3000 [==============================] - 8s 3ms/step - loss: 0.0214 - acc: 0.9957 - val_loss: 0.1514 - val_acc: 0.9510\n",
            "Epoch 14/30\n",
            "3000/3000 [==============================] - 8s 3ms/step - loss: 0.0208 - acc: 0.9957 - val_loss: 0.1439 - val_acc: 0.9430\n",
            "Epoch 15/30\n",
            "3000/3000 [==============================] - 8s 3ms/step - loss: 0.0190 - acc: 0.9963 - val_loss: 0.1486 - val_acc: 0.9520\n",
            "Epoch 16/30\n",
            "3000/3000 [==============================] - 8s 3ms/step - loss: 0.0175 - acc: 0.9963 - val_loss: 0.1470 - val_acc: 0.9450\n",
            "Epoch 17/30\n",
            "3000/3000 [==============================] - 8s 3ms/step - loss: 0.0169 - acc: 0.9973 - val_loss: 0.1564 - val_acc: 0.9510\n",
            "Epoch 18/30\n",
            "3000/3000 [==============================] - 7s 2ms/step - loss: 0.0169 - acc: 0.9960 - val_loss: 0.1443 - val_acc: 0.9410\n",
            "Epoch 19/30\n",
            "3000/3000 [==============================] - 7s 2ms/step - loss: 0.0152 - acc: 0.9977 - val_loss: 0.1559 - val_acc: 0.9530\n",
            "Epoch 20/30\n",
            "3000/3000 [==============================] - 7s 2ms/step - loss: 0.0144 - acc: 0.9970 - val_loss: 0.1538 - val_acc: 0.9510\n",
            "Epoch 21/30\n",
            "3000/3000 [==============================] - 7s 2ms/step - loss: 0.0129 - acc: 0.9973 - val_loss: 0.1523 - val_acc: 0.9450\n",
            "Epoch 22/30\n",
            "3000/3000 [==============================] - 7s 2ms/step - loss: 0.0139 - acc: 0.9973 - val_loss: 0.1489 - val_acc: 0.9380\n",
            "Epoch 23/30\n",
            "3000/3000 [==============================] - 8s 3ms/step - loss: 0.0123 - acc: 0.9977 - val_loss: 0.1550 - val_acc: 0.9450\n",
            "Epoch 24/30\n",
            "3000/3000 [==============================] - 8s 3ms/step - loss: 0.0118 - acc: 0.9970 - val_loss: 0.1561 - val_acc: 0.9450\n",
            "Epoch 25/30\n",
            "3000/3000 [==============================] - 8s 3ms/step - loss: 0.0110 - acc: 0.9973 - val_loss: 0.1571 - val_acc: 0.9460\n",
            "Epoch 26/30\n",
            "3000/3000 [==============================] - 8s 3ms/step - loss: 0.0097 - acc: 0.9980 - val_loss: 0.1556 - val_acc: 0.9370\n",
            "Epoch 27/30\n",
            "3000/3000 [==============================] - 7s 2ms/step - loss: 0.0116 - acc: 0.9977 - val_loss: 0.1678 - val_acc: 0.9530\n",
            "Epoch 28/30\n",
            "3000/3000 [==============================] - 8s 3ms/step - loss: 0.0108 - acc: 0.9980 - val_loss: 0.1598 - val_acc: 0.9450\n",
            "Epoch 29/30\n",
            "3000/3000 [==============================] - 8s 3ms/step - loss: 0.0097 - acc: 0.9977 - val_loss: 0.1637 - val_acc: 0.9480\n",
            "Epoch 30/30\n",
            "3000/3000 [==============================] - 7s 2ms/step - loss: 0.0090 - acc: 0.9977 - val_loss: 0.1621 - val_acc: 0.9400\n"
          ],
          "name": "stdout"
        }
      ]
    },
    {
      "metadata": {
        "id": "xq44VK29-Zb3",
        "colab_type": "code",
        "colab": {
          "base_uri": "https://localhost:8080/",
          "height": 51
        },
        "outputId": "e9bd6560-e53b-4436-c7a0-dc88cdb7a846"
      },
      "cell_type": "code",
      "source": [
        "#our test accuracy on VGG16\n",
        "test_loss, test_acc = model2.evaluate(test_features, test_labels)\n",
        "print('test_acc:', test_acc)"
      ],
      "execution_count": 11,
      "outputs": [
        {
          "output_type": "stream",
          "text": [
            "1000/1000 [==============================] - 0s 263us/step\n",
            "test_acc: 0.94\n"
          ],
          "name": "stdout"
        }
      ]
    },
    {
      "metadata": {
        "id": "jULW9uLhV4Cr",
        "colab_type": "text"
      },
      "cell_type": "markdown",
      "source": [
        "Our pretrain model with VGG16 yields 94%!!\n",
        "\n",
        "let's try Pretrain with VGG19 and see whether it's better"
      ]
    },
    {
      "metadata": {
        "id": "m0V3sN4sVTjT",
        "colab_type": "code",
        "outputId": "5d9fa2d9-9b60-4b15-de54-8e8d32e3278c",
        "colab": {
          "base_uri": "https://localhost:8080/",
          "height": 51
        }
      },
      "cell_type": "code",
      "source": [
        "#let's try pretrain VGG19\n",
        "from keras.applications import VGG19\n",
        "\n",
        "conv_base = VGG19(weights='imagenet',\n",
        "                  include_top=False,\n",
        "                  input_shape=(150, 150, 3))"
      ],
      "execution_count": 12,
      "outputs": [
        {
          "output_type": "stream",
          "text": [
            "Downloading data from https://github.com/fchollet/deep-learning-models/releases/download/v0.1/vgg19_weights_tf_dim_ordering_tf_kernels_notop.h5\n",
            "80142336/80134624 [==============================] - 1s 0us/step\n"
          ],
          "name": "stdout"
        }
      ]
    },
    {
      "metadata": {
        "id": "pf-l0xeyLGOL",
        "colab_type": "code",
        "outputId": "8e9b85fa-e412-4693-a443-21da34a8d8e5",
        "colab": {
          "base_uri": "https://localhost:8080/",
          "height": 1054
        }
      },
      "cell_type": "code",
      "source": [
        "#pretrain model 3\n",
        "from keras import models\n",
        "from keras import layers\n",
        "from keras import optimizers\n",
        "\n",
        "model3 = models.Sequential()\n",
        "model3.add(layers.Dense(256, activation='relu', input_dim=4 * 4 * 512))\n",
        "model3.add(layers.Dense(512, activation='relu'))\n",
        "model3.add(layers.Dropout(0.5))\n",
        "model3.add(layers.Dense(1, activation='sigmoid'))\n",
        "\n",
        "model3.compile(optimizer=optimizers.RMSprop(lr=2e-5),\n",
        "              loss='binary_crossentropy',\n",
        "              metrics=['acc'])\n",
        "\n",
        "history3 = model2.fit(train_features, train_labels,\n",
        "                    epochs=30,\n",
        "                    batch_size=20,\n",
        "                    validation_data=(validation_features, validation_labels))"
      ],
      "execution_count": 13,
      "outputs": [
        {
          "output_type": "stream",
          "text": [
            "Train on 3000 samples, validate on 1000 samples\n",
            "Epoch 1/30\n",
            "3000/3000 [==============================] - 6s 2ms/step - loss: 0.0075 - acc: 0.9990 - val_loss: 0.1971 - val_acc: 0.9430\n",
            "Epoch 2/30\n",
            "3000/3000 [==============================] - 6s 2ms/step - loss: 0.0081 - acc: 0.9987 - val_loss: 0.1943 - val_acc: 0.9460\n",
            "Epoch 3/30\n",
            "3000/3000 [==============================] - 6s 2ms/step - loss: 0.0072 - acc: 0.9983 - val_loss: 0.1992 - val_acc: 0.9470\n",
            "Epoch 4/30\n",
            "3000/3000 [==============================] - 6s 2ms/step - loss: 0.0074 - acc: 0.9983 - val_loss: 0.2013 - val_acc: 0.9450\n",
            "Epoch 5/30\n",
            "3000/3000 [==============================] - 6s 2ms/step - loss: 0.0062 - acc: 0.9990 - val_loss: 0.2016 - val_acc: 0.9470\n",
            "Epoch 6/30\n",
            "3000/3000 [==============================] - 6s 2ms/step - loss: 0.0068 - acc: 0.9990 - val_loss: 0.2017 - val_acc: 0.9460\n",
            "Epoch 7/30\n",
            "3000/3000 [==============================] - 6s 2ms/step - loss: 0.0051 - acc: 0.9990 - val_loss: 0.2037 - val_acc: 0.9450\n",
            "Epoch 8/30\n",
            "3000/3000 [==============================] - 6s 2ms/step - loss: 0.0065 - acc: 0.9983 - val_loss: 0.2056 - val_acc: 0.9440\n",
            "Epoch 9/30\n",
            "3000/3000 [==============================] - 6s 2ms/step - loss: 0.0053 - acc: 0.9993 - val_loss: 0.2025 - val_acc: 0.9460\n",
            "Epoch 10/30\n",
            "3000/3000 [==============================] - 6s 2ms/step - loss: 0.0053 - acc: 0.9990 - val_loss: 0.2092 - val_acc: 0.9470\n",
            "Epoch 11/30\n",
            "3000/3000 [==============================] - 6s 2ms/step - loss: 0.0043 - acc: 0.9990 - val_loss: 0.2140 - val_acc: 0.9430\n",
            "Epoch 12/30\n",
            "3000/3000 [==============================] - 6s 2ms/step - loss: 0.0045 - acc: 0.9990 - val_loss: 0.2112 - val_acc: 0.9470\n",
            "Epoch 13/30\n",
            "3000/3000 [==============================] - 6s 2ms/step - loss: 0.0042 - acc: 0.9993 - val_loss: 0.2122 - val_acc: 0.9480\n",
            "Epoch 14/30\n",
            "3000/3000 [==============================] - 6s 2ms/step - loss: 0.0035 - acc: 0.9997 - val_loss: 0.2135 - val_acc: 0.9470\n",
            "Epoch 15/30\n",
            "3000/3000 [==============================] - 6s 2ms/step - loss: 0.0039 - acc: 0.9990 - val_loss: 0.2160 - val_acc: 0.9430\n",
            "Epoch 16/30\n",
            "3000/3000 [==============================] - 6s 2ms/step - loss: 0.0041 - acc: 0.9987 - val_loss: 0.2171 - val_acc: 0.9480\n",
            "Epoch 17/30\n",
            "3000/3000 [==============================] - 6s 2ms/step - loss: 0.0039 - acc: 0.9993 - val_loss: 0.2184 - val_acc: 0.9450\n",
            "Epoch 18/30\n",
            "3000/3000 [==============================] - 6s 2ms/step - loss: 0.0028 - acc: 1.0000 - val_loss: 0.2173 - val_acc: 0.9480\n",
            "Epoch 19/30\n",
            "3000/3000 [==============================] - 6s 2ms/step - loss: 0.0024 - acc: 0.9997 - val_loss: 0.2255 - val_acc: 0.9420\n",
            "Epoch 20/30\n",
            "3000/3000 [==============================] - 6s 2ms/step - loss: 0.0025 - acc: 1.0000 - val_loss: 0.2257 - val_acc: 0.9450\n",
            "Epoch 21/30\n",
            "3000/3000 [==============================] - 6s 2ms/step - loss: 0.0020 - acc: 1.0000 - val_loss: 0.2273 - val_acc: 0.9460\n",
            "Epoch 22/30\n",
            "3000/3000 [==============================] - 6s 2ms/step - loss: 0.0025 - acc: 0.9997 - val_loss: 0.2270 - val_acc: 0.9470\n",
            "Epoch 23/30\n",
            "3000/3000 [==============================] - 6s 2ms/step - loss: 0.0023 - acc: 1.0000 - val_loss: 0.2290 - val_acc: 0.9450\n",
            "Epoch 24/30\n",
            "3000/3000 [==============================] - 6s 2ms/step - loss: 0.0019 - acc: 0.9997 - val_loss: 0.2363 - val_acc: 0.9440\n",
            "Epoch 25/30\n",
            "3000/3000 [==============================] - 6s 2ms/step - loss: 0.0017 - acc: 1.0000 - val_loss: 0.2333 - val_acc: 0.9470\n",
            "Epoch 26/30\n",
            "3000/3000 [==============================] - 6s 2ms/step - loss: 0.0018 - acc: 1.0000 - val_loss: 0.2361 - val_acc: 0.9490\n",
            "Epoch 27/30\n",
            "3000/3000 [==============================] - 6s 2ms/step - loss: 0.0016 - acc: 0.9997 - val_loss: 0.2380 - val_acc: 0.9480\n",
            "Epoch 28/30\n",
            "3000/3000 [==============================] - 6s 2ms/step - loss: 0.0020 - acc: 0.9997 - val_loss: 0.2345 - val_acc: 0.9460\n",
            "Epoch 29/30\n",
            "3000/3000 [==============================] - 6s 2ms/step - loss: 0.0021 - acc: 0.9993 - val_loss: 0.2374 - val_acc: 0.9450\n",
            "Epoch 30/30\n",
            "3000/3000 [==============================] - 6s 2ms/step - loss: 0.0015 - acc: 1.0000 - val_loss: 0.2377 - val_acc: 0.9480\n"
          ],
          "name": "stdout"
        }
      ]
    },
    {
      "metadata": {
        "id": "4XAd16nDVS0s",
        "colab_type": "code",
        "outputId": "27fe1b69-6a5b-4d08-8cf8-2f4a758dbb00",
        "colab": {
          "base_uri": "https://localhost:8080/",
          "height": 1054
        }
      },
      "cell_type": "code",
      "source": [
        "test2 = model3.fit(train_features, train_labels,\n",
        "                    epochs=30,\n",
        "                    batch_size=20,\n",
        "                    validation_data=(test_features, test_labels))"
      ],
      "execution_count": 14,
      "outputs": [
        {
          "output_type": "stream",
          "text": [
            "Train on 3000 samples, validate on 1000 samples\n",
            "Epoch 1/30\n",
            "3000/3000 [==============================] - 7s 2ms/step - loss: 0.4480 - acc: 0.8163 - val_loss: 0.2645 - val_acc: 0.9150\n",
            "Epoch 2/30\n",
            "3000/3000 [==============================] - 6s 2ms/step - loss: 0.2597 - acc: 0.9050 - val_loss: 0.1926 - val_acc: 0.9280\n",
            "Epoch 3/30\n",
            "3000/3000 [==============================] - 6s 2ms/step - loss: 0.2046 - acc: 0.9270 - val_loss: 0.1681 - val_acc: 0.9310\n",
            "Epoch 4/30\n",
            "3000/3000 [==============================] - 7s 2ms/step - loss: 0.1772 - acc: 0.9317 - val_loss: 0.1615 - val_acc: 0.9360\n",
            "Epoch 5/30\n",
            "3000/3000 [==============================] - 7s 2ms/step - loss: 0.1510 - acc: 0.9460 - val_loss: 0.1582 - val_acc: 0.9360\n",
            "Epoch 6/30\n",
            "3000/3000 [==============================] - 6s 2ms/step - loss: 0.1335 - acc: 0.9543 - val_loss: 0.1431 - val_acc: 0.9390\n",
            "Epoch 7/30\n",
            "3000/3000 [==============================] - 6s 2ms/step - loss: 0.1197 - acc: 0.9567 - val_loss: 0.1387 - val_acc: 0.9410\n",
            "Epoch 8/30\n",
            "3000/3000 [==============================] - 6s 2ms/step - loss: 0.1070 - acc: 0.9617 - val_loss: 0.1304 - val_acc: 0.9460\n",
            "Epoch 9/30\n",
            "3000/3000 [==============================] - 6s 2ms/step - loss: 0.0919 - acc: 0.9667 - val_loss: 0.1295 - val_acc: 0.9460\n",
            "Epoch 10/30\n",
            "3000/3000 [==============================] - 6s 2ms/step - loss: 0.0857 - acc: 0.9693 - val_loss: 0.1420 - val_acc: 0.9440\n",
            "Epoch 11/30\n",
            "3000/3000 [==============================] - 6s 2ms/step - loss: 0.0747 - acc: 0.9747 - val_loss: 0.1295 - val_acc: 0.9450\n",
            "Epoch 12/30\n",
            "3000/3000 [==============================] - 6s 2ms/step - loss: 0.0637 - acc: 0.9817 - val_loss: 0.1381 - val_acc: 0.9420\n",
            "Epoch 13/30\n",
            "3000/3000 [==============================] - 6s 2ms/step - loss: 0.0607 - acc: 0.9840 - val_loss: 0.1296 - val_acc: 0.9470\n",
            "Epoch 14/30\n",
            "3000/3000 [==============================] - 6s 2ms/step - loss: 0.0525 - acc: 0.9847 - val_loss: 0.1289 - val_acc: 0.9480\n",
            "Epoch 15/30\n",
            "3000/3000 [==============================] - 6s 2ms/step - loss: 0.0462 - acc: 0.9873 - val_loss: 0.1314 - val_acc: 0.9450\n",
            "Epoch 16/30\n",
            "3000/3000 [==============================] - 6s 2ms/step - loss: 0.0377 - acc: 0.9917 - val_loss: 0.1333 - val_acc: 0.9420\n",
            "Epoch 17/30\n",
            "3000/3000 [==============================] - 6s 2ms/step - loss: 0.0329 - acc: 0.9923 - val_loss: 0.1382 - val_acc: 0.9490\n",
            "Epoch 18/30\n",
            "3000/3000 [==============================] - 6s 2ms/step - loss: 0.0284 - acc: 0.9923 - val_loss: 0.1355 - val_acc: 0.9400\n",
            "Epoch 19/30\n",
            "3000/3000 [==============================] - 6s 2ms/step - loss: 0.0229 - acc: 0.9947 - val_loss: 0.1430 - val_acc: 0.9350\n",
            "Epoch 20/30\n",
            "3000/3000 [==============================] - 6s 2ms/step - loss: 0.0197 - acc: 0.9953 - val_loss: 0.1441 - val_acc: 0.9330\n",
            "Epoch 21/30\n",
            "3000/3000 [==============================] - 6s 2ms/step - loss: 0.0171 - acc: 0.9967 - val_loss: 0.1437 - val_acc: 0.9420\n",
            "Epoch 22/30\n",
            "3000/3000 [==============================] - 6s 2ms/step - loss: 0.0128 - acc: 0.9977 - val_loss: 0.1487 - val_acc: 0.9400\n",
            "Epoch 23/30\n",
            "3000/3000 [==============================] - 6s 2ms/step - loss: 0.0098 - acc: 0.9977 - val_loss: 0.1543 - val_acc: 0.9370\n",
            "Epoch 24/30\n",
            "3000/3000 [==============================] - 6s 2ms/step - loss: 0.0090 - acc: 0.9987 - val_loss: 0.1755 - val_acc: 0.9500\n",
            "Epoch 25/30\n",
            "3000/3000 [==============================] - 6s 2ms/step - loss: 0.0065 - acc: 0.9993 - val_loss: 0.1642 - val_acc: 0.9390\n",
            "Epoch 26/30\n",
            "3000/3000 [==============================] - 6s 2ms/step - loss: 0.0053 - acc: 0.9993 - val_loss: 0.1671 - val_acc: 0.9390\n",
            "Epoch 27/30\n",
            "3000/3000 [==============================] - 6s 2ms/step - loss: 0.0035 - acc: 0.9997 - val_loss: 0.1746 - val_acc: 0.9480\n",
            "Epoch 28/30\n",
            "3000/3000 [==============================] - 6s 2ms/step - loss: 0.0026 - acc: 1.0000 - val_loss: 0.1859 - val_acc: 0.9500\n",
            "Epoch 29/30\n",
            "3000/3000 [==============================] - 6s 2ms/step - loss: 0.0025 - acc: 0.9997 - val_loss: 0.1974 - val_acc: 0.9500\n",
            "Epoch 30/30\n",
            "3000/3000 [==============================] - 6s 2ms/step - loss: 0.0015 - acc: 1.0000 - val_loss: 0.1980 - val_acc: 0.9490\n"
          ],
          "name": "stdout"
        }
      ]
    },
    {
      "metadata": {
        "id": "_hXv_eX0wXtM",
        "colab_type": "code",
        "colab": {
          "base_uri": "https://localhost:8080/",
          "height": 51
        },
        "outputId": "4c3bccf5-b918-4b5d-9fc0-8f2c1fc2faaf"
      },
      "cell_type": "code",
      "source": [
        "#our test accuracy on VGG19\n",
        "\n",
        "test_loss2, test_acc2 = model3.evaluate(test_features, test_labels)\n",
        "print('test_acc:', test_acc2)"
      ],
      "execution_count": 15,
      "outputs": [
        {
          "output_type": "stream",
          "text": [
            "1000/1000 [==============================] - 0s 248us/step\n",
            "test_acc: 0.949\n"
          ],
          "name": "stdout"
        }
      ]
    },
    {
      "metadata": {
        "id": "AqJBIpD-jPDP",
        "colab_type": "text"
      },
      "cell_type": "markdown",
      "source": [
        "It seems pretrain with VGG19 is a slightly better model at 94.9% accuracy\n"
      ]
    }
  ]
}